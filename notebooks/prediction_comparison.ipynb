{
 "cells": [
  {
   "cell_type": "code",
   "execution_count": 1,
   "metadata": {},
   "outputs": [
    {
     "name": "stderr",
     "output_type": "stream",
     "text": [
      "/home/adday/.virtualenvs/ardi-CRQfTZgZ/lib/python3.8/site-packages/tqdm/auto.py:22: TqdmWarning: IProgress not found. Please update jupyter and ipywidgets. See https://ipywidgets.readthedocs.io/en/stable/user_install.html\n",
      "  from .autonotebook import tqdm as notebook_tqdm\n"
     ]
    }
   ],
   "source": [
    "from pathlib import Path\n",
    "from ardi.dataset import SocialVAEDataset\n",
    "import numpy as np\n",
    "from ardi.prediction import LinearPredictor, PowerlawPredictor, SocialVAEPredictor, VelocityCalc, PrefVelocityCalc, Predictor"
   ]
  },
  {
   "cell_type": "code",
   "execution_count": 2,
   "metadata": {},
   "outputs": [],
   "source": [
    "test_ds = SocialVAEDataset(\"../../SocialVAE/data/zucker_day_controller_scene/19/cadrl/overtake/23_0.txt\")"
   ]
  },
  {
   "cell_type": "code",
   "execution_count": 3,
   "metadata": {},
   "outputs": [
    {
     "name": "stdout",
     "output_type": "stream",
     "text": [
      "0.3145340106836143 0.7124782817872577\n",
      "0.2297543604784849 0.37006448538139813\n",
      "0.2655014081895074 0.475068089039343\n"
     ]
    }
   ],
   "source": [
    "lp = LinearPredictor(8, VelocityCalc.LAST_DISPLACEMENT)\n",
    "pp = PowerlawPredictor(8, VelocityCalc.LAST_DISPLACEMENT, PrefVelocityCalc.FIX_MAG_ORACLE_DIR)\n",
    "sp = SocialVAEPredictor(\"../../SocialVAE/models/zara01/ckpt-best\", 4, 5, 8, VelocityCalc.LAST_DISPLACEMENT, \"cuda:0\")\n",
    "predictors = {\n",
    "    \"Linear\": lp,\n",
    "    \"Powerlaw\": pp,\n",
    "    \"SocialVAE\": sp\n",
    "}\n",
    "\n",
    "lp_ades, lp_fdes = lp.predict_dataset(test_ds, 5, [i for i in test_ds.agents if i != -1], False)\n",
    "pp_ades, pp_fdes = pp.predict_dataset(test_ds, 5, [i for i in test_ds.agents if i != -1], False)\n",
    "sp_ades, sp_fdes = sp.predict_dataset(test_ds, 5, [i for i in test_ds.agents if i != -1], False)\n",
    "\n",
    "print(np.mean(lp_ades), np.mean(lp_fdes))\n",
    "print(np.mean(pp_ades), np.mean(pp_fdes))\n",
    "print(np.mean(sp_ades), np.mean(sp_fdes))"
   ]
  },
  {
   "cell_type": "code",
   "execution_count": 4,
   "metadata": {},
   "outputs": [],
   "source": [
    "%matplotlib inline\n",
    "\n",
    "from tqdm import tqdm\n",
    "from typing import Dict, Tuple, List\n",
    "\n",
    "results = {}\n",
    "\n",
    "def get_results(predictors: Dict[str, Predictor], root: str, glob: str, plot: bool) -> Dict[str, Dict[str, Tuple[List[float], List[float]]]]:\n",
    "    for i, fn in tqdm(list(enumerate(Path(root).glob(glob)))):\n",
    "        day, controller, scene = str(fn).split(\"/\")[5:8]\n",
    "        idx, offset = fn.stem.split(\"_\")\n",
    "        img_root = Path(f\"./{controller}/{scene}\")\n",
    "        img_root.mkdir(parents=True, exist_ok=True)\n",
    "        \n",
    "        ds = SocialVAEDataset(str(fn))\n",
    "        results[str(fn)] = {}\n",
    "\n",
    "        for name in predictors:\n",
    "            ades, fdes = results[str(fn)][name] = predictors[name].predict_dataset(\n",
    "                ds,\n",
    "                5,\n",
    "                [i for i in ds.agents if i != -1],\n",
    "                plot,\n",
    "                str(img_root) + f\"/{day}_{idx}_{offset}_{name.lower()}\",\n",
    "                name + \" \" + controller + \" on \" + scene\n",
    "            )\n",
    "        \n",
    "    return results\n"
   ]
  },
  {
   "cell_type": "code",
   "execution_count": 5,
   "metadata": {},
   "outputs": [],
   "source": [
    "from pprint import pprint\n",
    "from matplotlib import pyplot as plt\n",
    "import seaborn as sns; sns.set_theme()\n",
    "\n",
    "def plot_results(results: Dict[str, Dict[str, Tuple[List[float], List[float]]]], title: str):\n",
    "    fig, axs = plt.subplots(1, 2, figsize=(15, 5))\n",
    "\n",
    "    plot_fn = sns.kdeplot\n",
    "\n",
    "    plot_fn([x for x in [results[key][\"Linear\"][0] for key in results] for x in x], label=\"Linear\", ax=axs[0])\n",
    "    plot_fn([x for x in [results[key][\"SocialVAE\"][0] for key in results] for x in x], label=\"SocialVAE\", ax=axs[0])\n",
    "    plot_fn([x for x in [results[key][\"Powerlaw\"][0] for key in results] for x in x], label=\"Powerlaw\", ax=axs[0])\n",
    "\n",
    "    plot_fn([x for x in [results[key][\"Linear\"][1] for key in results] for x in x], label=\"Linear\", ax=axs[1])\n",
    "    plot_fn([x for x in [results[key][\"SocialVAE\"][1] for key in results] for x in x], label=\"SocialVAE\", ax=axs[1])\n",
    "    plot_fn([x for x in [results[key][\"Powerlaw\"][1] for key in results] for x in x], label=\"Powerlaw\", ax=axs[1])\n",
    "\n",
    "    axs[0].set_ylabel(\"ADE Density\")\n",
    "    axs[1].set_ylabel(\"FDE Density\")\n",
    "\n",
    "    plt.suptitle(title)\n",
    "    plt.legend()"
   ]
  },
  {
   "cell_type": "code",
   "execution_count": 6,
   "metadata": {},
   "outputs": [
    {
     "name": "stderr",
     "output_type": "stream",
     "text": [
      " 93%|█████████▎| 756/816 [1:04:36<49:11, 49.20s/it]  "
     ]
    },
    {
     "ename": "",
     "evalue": "",
     "output_type": "error",
     "traceback": [
      "\u001b[1;31mCanceled future for execute_request message before replies were done"
     ]
    },
    {
     "ename": "",
     "evalue": "",
     "output_type": "error",
     "traceback": [
      "\u001b[1;31mThe Kernel crashed while executing code in the the current cell or a previous cell. Please review the code in the cell(s) to identify a possible cause of the failure. Click <a href='https://aka.ms/vscodeJupyterKernelCrash'>here</a> for more info. View Jupyter <a href='command:jupyter.viewOutput'>log</a> for further details."
     ]
    }
   ],
   "source": [
    "results = get_results(predictors, \"../../SocialVAE/data/zucker_day_controller_scene/\", \"./*/cadrl/*/*txt\", True)\n",
    "plot_results(results, \"CADRL on All Scenarios\")"
   ]
  },
  {
   "cell_type": "code",
   "execution_count": null,
   "metadata": {},
   "outputs": [],
   "source": []
  }
 ],
 "metadata": {
  "kernelspec": {
   "display_name": "Python 3.8.10 ('ardi-CRQfTZgZ')",
   "language": "python",
   "name": "python3"
  },
  "language_info": {
   "codemirror_mode": {
    "name": "ipython",
    "version": 3
   },
   "file_extension": ".py",
   "mimetype": "text/x-python",
   "name": "python",
   "nbconvert_exporter": "python",
   "pygments_lexer": "ipython3",
   "version": "3.8.10"
  },
  "vscode": {
   "interpreter": {
    "hash": "f83d2c0f406f3823a30a63794ef9d00d8c3125bf0c46c24a64c565355a88d184"
   }
  }
 },
 "nbformat": 4,
 "nbformat_minor": 4
}
