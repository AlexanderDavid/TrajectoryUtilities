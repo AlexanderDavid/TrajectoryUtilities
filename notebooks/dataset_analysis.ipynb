{
 "cells": [
  {
   "cell_type": "code",
   "execution_count": 1,
   "metadata": {},
   "outputs": [],
   "source": [
    "from ardi.dataset import ZuckerDataset\n",
    "from ardi.dataset.zucker import HEIGHT_MAP, RADIUS_MAP"
   ]
  },
  {
   "cell_type": "code",
   "execution_count": 2,
   "metadata": {},
   "outputs": [
    {
     "name": "stdout",
     "output_type": "stream",
     "text": [
      "141\n"
     ]
    }
   ],
   "source": [
    "from pathlib import Path\n",
    "dataset_files = list(Path(\"../../study_analysis/data/\").glob(\"./*/*/*.csv\"))\n",
    "print(len(dataset_files))"
   ]
  },
  {
   "cell_type": "code",
   "execution_count": null,
   "metadata": {},
   "outputs": [],
   "source": []
  },
  {
   "cell_type": "code",
   "execution_count": 9,
   "metadata": {},
   "outputs": [
    {
     "name": "stdout",
     "output_type": "stream",
     "text": [
      "Agent Info Table\n",
      "-1 & 100 & 0.64 & 0.18 & N/A & 0.35 \\\\\n",
      "3 & 56 & 1.91 & 0.23 & N/A & 0.83 \\\\\n",
      "4 & 56 & 1.75 & 0.24 & N/A & 0.83 \\\\\n",
      "5 & 50 & 1.63 & 0.2 & N/A & 0.82 \\\\\n",
      "6 & 57 & 1.63 & 0.2 & N/A & 0.75 \\\\\n",
      "7 & 51 & 1.88 & 0.24 & N/A & 0.77 \\\\\n",
      "8 & 51 & 1.73 & 0.22 & N/A & 0.77 \\\\\n",
      "\n",
      "Total Time (hh:mm) 26:50\n"
     ]
    }
   ],
   "source": [
    "from collections import defaultdict\n",
    "import numpy as np\n",
    "\n",
    "num_trajs = defaultdict(int)\n",
    "speeds = defaultdict(list)\n",
    "total_time = 0\n",
    "\n",
    "for dataset_file in dataset_files:\n",
    "    ds = ZuckerDataset(dataset_file)\n",
    "    total_time += len(ds.times) * ds.timestep\n",
    "    for key in ds.agents.keys():\n",
    "        num_trajs[key] += 1\n",
    "\n",
    "        for pos in ds.agents[key].positions:\n",
    "            speeds[key].append(np.linalg.norm(pos.vel))\n",
    "\n",
    "\n",
    "print(\"Agent Info Table\")\n",
    "for key in sorted(num_trajs.keys()):\n",
    "    print(key, \"&\", num_trajs[key], \"&\", round(HEIGHT_MAP[key], 2), \"&\", round(RADIUS_MAP[key], 2), \"&\", \"N/A\", \"&\", round(np.mean(speeds[key]), 2), \"\\\\\\\\\")\n",
    "\n",
    "print()\n",
    "mins = total_time // 60\n",
    "secs = total_time - mins * 60\n",
    "print(f\"Total Time (hh:mm) {int(mins)}:{int(secs)}\")"
   ]
  },
  {
   "cell_type": "code",
   "execution_count": null,
   "metadata": {},
   "outputs": [],
   "source": []
  }
 ],
 "metadata": {
  "kernelspec": {
   "display_name": "Python 3.8.10 ('ardi-CRQfTZgZ')",
   "language": "python",
   "name": "python3"
  },
  "language_info": {
   "codemirror_mode": {
    "name": "ipython",
    "version": 3
   },
   "file_extension": ".py",
   "mimetype": "text/x-python",
   "name": "python",
   "nbconvert_exporter": "python",
   "pygments_lexer": "ipython3",
   "version": "3.8.10"
  },
  "orig_nbformat": 4,
  "vscode": {
   "interpreter": {
    "hash": "123bf5afef9133abd504584c95b1cb5e988a3a532d31bbad070c75cc95b2ea0b"
   }
  }
 },
 "nbformat": 4,
 "nbformat_minor": 2
}
